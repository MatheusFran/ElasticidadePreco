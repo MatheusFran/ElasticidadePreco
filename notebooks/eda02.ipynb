{
 "cells": [
  {
   "metadata": {
    "ExecuteTime": {
     "end_time": "2025-08-14T13:06:09.077223Z",
     "start_time": "2025-08-14T13:06:08.960383Z"
    }
   },
   "cell_type": "code",
   "source": [
    "import pandas as pd\n",
    "from sklearn.model_selection import train_test_split\n",
    "from sklearn.ensemble import GradientBoostingRegressor\n",
    "from sklearn.metrics import r2_score\n",
    "import numpy as np\n",
    "\n",
    "# ==========================\n",
    "# 1. Criar dataset fictício\n",
    "# ==========================\n",
    "data = {\n",
    "    'amount': [100, 110, 90, 95, 105, 120, 80, 130, 125, 115],\n",
    "    'country': ['BR', 'BR', 'BR', 'AR', 'AR', 'AR', 'BR', 'AR', 'BR', 'AR'],\n",
    "    'sales_person': ['Ana', 'Ana', 'Carlos', 'Carlos', 'Luiz', 'Luiz', 'Ana', 'Carlos', 'Luiz', 'Ana'],\n",
    "    'date': pd.date_range(start='2023-01-01', periods=10, freq='D'),\n",
    "    'ticket': [500, 520, 480, 470, 510, 530, 450, 550, 540, 500],\n",
    "    'product': ['A', 'A', 'B', 'B', 'C', 'C', 'A', 'B', 'C', 'A'],\n",
    "    'boxes_shipped': [50, 48, 60, 58, 55, 53, 65, 57, 52, 49]\n",
    "}\n",
    "\n",
    "df = pd.DataFrame(data)\n",
    "\n",
    "# ==========================\n",
    "# 2. Pré-processamento simples\n",
    "# ==========================\n",
    "# Converter categóricas para dummies\n",
    "df_encoded = pd.get_dummies(df.drop(columns=['date']), drop_first=True)\n",
    "\n",
    "# ==========================\n",
    "# 3. Treinar modelo\n",
    "# ==========================\n",
    "X = df_encoded.drop(columns=['boxes_shipped'])\n",
    "y = df_encoded['boxes_shipped']\n",
    "\n",
    "X_train, X_test, y_train, y_test = train_test_split(X, y, test_size=0.2, random_state=42)\n",
    "\n",
    "model = GradientBoostingRegressor(random_state=42)\n",
    "model.fit(X_train, y_train)\n",
    "\n",
    "print(\"R² no teste:\", round(r2_score(y_test, model.predict(X_test)), 3))\n",
    "\n",
    "# ==========================\n",
    "# 4. Função para simular aumento e calcular elasticidade\n",
    "# ==========================\n",
    "def calcular_elasticidade(produto, aumento_percentual):\n",
    "    # Filtrar produto\n",
    "    base_prod = df[df['product'] == produto].copy()\n",
    "\n",
    "    # Criar cópias para cenário original e com aumento\n",
    "    df_original = base_prod.copy()\n",
    "    df_aumento = base_prod.copy()\n",
    "    df_aumento['amount'] *= (1 + aumento_percentual / 100)\n",
    "\n",
    "    # Codificar igual ao treino\n",
    "    X_original = pd.get_dummies(df_original.drop(columns=['date', 'boxes_shipped']), drop_first=True)\n",
    "    X_aumento = pd.get_dummies(df_aumento.drop(columns=['date', 'boxes_shipped']), drop_first=True)\n",
    "\n",
    "    # Garantir mesmas colunas\n",
    "    X_original = X_original.reindex(columns=X.columns, fill_value=0)\n",
    "    X_aumento = X_aumento.reindex(columns=X.columns, fill_value=0)\n",
    "\n",
    "    # Prever\n",
    "    pred_original = model.predict(X_original).mean()\n",
    "    pred_aumento = model.predict(X_aumento).mean()\n",
    "\n",
    "    # Calcular elasticidade\n",
    "    delta_q = (pred_aumento - pred_original) / pred_original\n",
    "    delta_p = aumento_percentual / 100\n",
    "    elasticidade = delta_q / delta_p\n",
    "\n",
    "    return {\n",
    "        'produto': produto,\n",
    "        'vendas_originais': pred_original,\n",
    "        'vendas_com_aumento': pred_aumento,\n",
    "        'elasticidade': elasticidade\n",
    "    }\n",
    "\n",
    "# ==========================\n",
    "# 5. Exemplo de uso\n",
    "# ==========================\n",
    "resultado = calcular_elasticidade(produto='A', aumento_percentual=50)\n",
    "print(resultado)\n"
   ],
   "id": "dbb6de49148ae8a5",
   "outputs": [
    {
     "name": "stdout",
     "output_type": "stream",
     "text": [
      "R² no teste: -6.103\n",
      "{'produto': 'A', 'vendas_originais': 54.873893388665216, 'vendas_com_aumento': 52.825358174034754, 'elasticidade': -0.07466338136865676}\n"
     ]
    }
   ],
   "execution_count": 2
  },
  {
   "metadata": {},
   "cell_type": "code",
   "outputs": [],
   "execution_count": null,
   "source": "",
   "id": "387eddac31fbbafb"
  }
 ],
 "metadata": {
  "kernelspec": {
   "display_name": "Python [conda env:base] *",
   "language": "python",
   "name": "conda-base-py"
  },
  "language_info": {
   "codemirror_mode": {
    "name": "ipython",
    "version": 2
   },
   "file_extension": ".py",
   "mimetype": "text/x-python",
   "name": "python",
   "nbconvert_exporter": "python",
   "pygments_lexer": "ipython2",
   "version": "2.7.6"
  }
 },
 "nbformat": 4,
 "nbformat_minor": 5
}
